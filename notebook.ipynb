{
 "cells": [
  {
   "cell_type": "markdown",
   "id": "8a588f49",
   "metadata": {},
   "source": [
    "# Expirements"
   ]
  },
  {
   "cell_type": "markdown",
   "id": "abe7f454",
   "metadata": {},
   "source": [
    "### imports"
   ]
  },
  {
   "cell_type": "code",
   "execution_count": 30,
   "id": "7c37b7e6",
   "metadata": {},
   "outputs": [],
   "source": [
    "import duckdb \n",
    "import pandas as pd\n",
    "import pyarrow.parquet as pq\n",
    "from datetime import datetime\n",
    "import os\n",
    "import sys\n",
    "from pathlib import Path"
   ]
  },
  {
   "cell_type": "markdown",
   "id": "68575715",
   "metadata": {},
   "source": [
    "### Duckdb Parittion"
   ]
  },
  {
   "cell_type": "code",
   "execution_count": null,
   "id": "ae594924",
   "metadata": {},
   "outputs": [],
   "source": [
    "cwd = Path.cwd()\n",
    "processed_dir = cwd / 'data' / 'processed'\n",
    "raw_dir = cwd / 'data' / 'raw'\n",
    "\n",
    "print(f'processed_dir: {processed_dir}')\n",
    "print(f'raw_dir: {raw_dir}')\n",
    "\n",
    "# Connect to duckdb in memory\n",
    "con = duckdb.connect(database=':memory:')\n",
    "\n",
    "\n",
    "file_types = ['customers', 'merchants', 'transactions', 'login_attempts']\n",
    "partition_statement = \"\"\n",
    "\n",
    "for file_type in file_types:\n",
    "    con.execute(f\"\"\"\n",
    "    CREATE TABLE IF NOT EXISTS {file_type} AS\n",
    "    SELECT\n",
    "        *\n",
    "    FROM read_parquet('{raw_dir}/{file_type}.parquet')\n",
    "    \"\"\")\n",
    "    if file_type == 'customers':\n",
    "        partition_statement = \"PARTITION_BY (AccountCreationMonth)\"\n",
    "    if file_type == 'merchants':\n",
    "        partition_statement = \"PARTITION_BY (ingestion_date)\"\n",
    "    if file_type == 'transactions':\n",
    "        partition_statement = \"PARTITION_BY (TimestampMonth)\"\n",
    "    if file_type == 'login_attempts':\n",
    "        partition_statement = \"PARTITION_BY (LoginTimestampMonth)\"\n",
    "\n",
    "    statement = f\"\"\"\n",
    "        COPY {file_type} TO '{processed_dir}/{file_type}' \n",
    "        (FORMAT parquet, {partition_statement}, OVERWRITE_OR_IGNORE)\n",
    "    \"\"\"\n",
    "\n",
    "    # print(statement)\n",
    "    \n",
    "    # Write partitions\n",
    "    con.execute(f\"\"\"\n",
    "        COPY {file_type} TO '{processed_dir}/{file_type}' \n",
    "        (FORMAT parquet, {partition_statement}, OVERWRITE_OR_IGNORE)\n",
    "    \"\"\")"
   ]
  }
 ],
 "metadata": {
  "kernelspec": {
   "display_name": ".venv",
   "language": "python",
   "name": "python3"
  },
  "language_info": {
   "codemirror_mode": {
    "name": "ipython",
    "version": 3
   },
   "file_extension": ".py",
   "mimetype": "text/x-python",
   "name": "python",
   "nbconvert_exporter": "python",
   "pygments_lexer": "ipython3",
   "version": "3.13.0"
  }
 },
 "nbformat": 4,
 "nbformat_minor": 5
}
