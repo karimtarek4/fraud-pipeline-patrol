{
 "cells": [
  {
   "cell_type": "markdown",
   "id": "8a588f49",
   "metadata": {},
   "source": [
    "# Expirements"
   ]
  },
  {
   "cell_type": "markdown",
   "id": "abe7f454",
   "metadata": {},
   "source": [
    "### imports"
   ]
  },
  {
   "cell_type": "code",
   "execution_count": null,
   "id": "7c37b7e6",
   "metadata": {},
   "outputs": [],
   "source": [
    "import duckdb \n",
    "import pandas as pd\n",
    "import pyarrow.parquet as pq\n",
    "from datetime import datetime\n",
    "import os\n",
    "import sys\n",
    "from pathlib import Path"
   ]
  },
  {
   "cell_type": "markdown",
   "id": "68575715",
   "metadata": {},
   "source": [
    "### Duckdb Parittion"
   ]
  },
  {
   "cell_type": "code",
   "execution_count": null,
   "id": "ae594924",
   "metadata": {},
   "outputs": [],
   "source": [
    "cwd = Path.cwd()\n",
    "processed_dir = cwd / 'data' / 'processed'\n",
    "raw_dir = cwd / 'data' / 'raw'\n",
    "\n",
    "print(f'processed_dir: {processed_dir}')\n",
    "print(f'raw_dir: {raw_dir}')\n",
    "\n",
    "# Connect to duckdb in memory\n",
    "con = duckdb.connect(database=':memory:')\n",
    "\n",
    "# Dynamically get file types from raw directory\n",
    "file_types = []\n",
    "for file_path in raw_dir.glob('*.parquet'):\n",
    "    # Extract filename without extension\n",
    "    file_type = file_path.stem\n",
    "    file_types.append(file_type)\n",
    "\n",
    "print(f'Found files: {file_types}')\n",
    "\n",
    "partition_statement = \"\"\n",
    "\n",
    "for file_type in file_types:\n",
    "    con.execute(f\"\"\"\n",
    "    CREATE TABLE IF NOT EXISTS {file_type} AS\n",
    "    SELECT\n",
    "        *\n",
    "    FROM read_parquet('{raw_dir}/{file_type}.parquet')\n",
    "    \"\"\")\n",
    "    if file_type == 'customers':\n",
    "        partition_statement = \"PARTITION_BY (AccountCreationMonth)\"\n",
    "    if file_type == 'merchants':\n",
    "        partition_statement = \"PARTITION_BY (ingestion_date)\"\n",
    "    if file_type == 'transactions':\n",
    "        partition_statement = \"PARTITION_BY (TimestampMonth)\"\n",
    "    if file_type == 'login_attempts':\n",
    "        partition_statement = \"PARTITION_BY (LoginTimestampMonth)\"\n",
    "\n",
    "    statement = f\"\"\"\n",
    "        COPY {file_type} TO '{processed_dir}/{file_type}' \n",
    "        (FORMAT parquet, {partition_statement}, OVERWRITE_OR_IGNORE)\n",
    "    \"\"\"\n",
    "\n",
    "    # print(statement)\n",
    "    \n",
    "    # Write partitions\n",
    "    con.execute(f\"\"\"\n",
    "        COPY {file_type} TO '{processed_dir}/{file_type}' \n",
    "        (FORMAT parquet, {partition_statement}, OVERWRITE_OR_IGNORE)\n",
    "    \"\"\")"
   ]
  },
  {
   "cell_type": "markdown",
   "id": "b3ad2264",
   "metadata": {},
   "source": [
    "### TEST Minio Upload Paths"
   ]
  },
  {
   "cell_type": "code",
   "execution_count": null,
   "id": "bc52d7d1",
   "metadata": {},
   "outputs": [],
   "source": [
    "data_path = '/Users/tro/Desktop/fraud-pipeline-patrol/data/processed'\n",
    "\n",
    "# Check if the data directory exists\n",
    "if not os.path.exists(data_path):\n",
    "    print(f\"Data directory not found: {data_path}\")\n",
    "    raise FileNotFoundError(f\"Data directory not found: {data_path}\")\n",
    "\n",
    "data_path_obj = Path(data_path)\n",
    "subdirs = [d for d in data_path_obj.iterdir() if d.is_dir()]\n",
    "print(f\"Found {len(subdirs)} data subdirectories: {[d.name for d in subdirs]}\")\n",
    "\n",
    "# Process each table directory\n",
    "for subdir in subdirs:\n",
    "    table_name = subdir.name\n",
    "    print(f\"Processing {table_name} directory\")\n",
    "    \n",
    "    # Use recursive glob to find all parquet files in subdirectories\n",
    "    # This will find files in partition subdirectories like AccountCreationMonth=1/\n",
    "    parquet_files = list(subdir.glob('**/*.parquet'))\n",
    "    print(f\"Found {len(parquet_files)} parquet files in {table_name}\")\n",
    "\n",
    "    for file_path in parquet_files:\n",
    "        # relative_to(data_path) \n",
    "        rel_path = file_path.relative_to(data_path)\n",
    "        object_name = str(rel_path)\n",
    "        \n",
    "        print(f\"Uploading {file_path} to MinIO as {object_name}\")"
   ]
  }
 ],
 "metadata": {
  "kernelspec": {
   "display_name": ".venv",
   "language": "python",
   "name": "python3"
  },
  "language_info": {
   "codemirror_mode": {
    "name": "ipython",
    "version": 3
   },
   "file_extension": ".py",
   "mimetype": "text/x-python",
   "name": "python",
   "nbconvert_exporter": "python",
   "pygments_lexer": "ipython3",
   "version": "3.13.0"
  }
 },
 "nbformat": 4,
 "nbformat_minor": 5
}
