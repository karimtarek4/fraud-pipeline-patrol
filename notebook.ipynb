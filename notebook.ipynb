{
 "cells": [
  {
   "cell_type": "markdown",
   "id": "8a588f49",
   "metadata": {},
   "source": [
    "# Expirements"
   ]
  },
  {
   "cell_type": "markdown",
   "id": "abe7f454",
   "metadata": {},
   "source": [
    "### imports"
   ]
  },
  {
   "cell_type": "code",
   "execution_count": 26,
   "id": "7c37b7e6",
   "metadata": {},
   "outputs": [],
   "source": [
    "import duckdb \n",
    "import pandas as pd\n",
    "import pyarrow.parquet as pq\n",
    "from datetime import datetime\n",
    "import os\n",
    "import sys\n",
    "from pathlib import Path\n",
    "\n",
    "import os\n",
    "import psycopg2\n",
    "import pandas as pd\n",
    "os.environ[\"MPLCONFIGDIR\"] = \"/tmp/matplotlib\"\n",
    "import matplotlib.pyplot as plt\n",
    "import seaborn as sns\n",
    "import matplotlib.dates as mdates\n",
    "\n",
    "import psycopg2\n"
   ]
  },
  {
   "cell_type": "markdown",
   "id": "6cc1cfd9",
   "metadata": {},
   "source": [
    "# Test Visualization"
   ]
  },
  {
   "cell_type": "code",
   "execution_count": null,
   "id": "e952826b",
   "metadata": {},
   "outputs": [],
   "source": [
    "def get_postgres_conn():\n",
    "    \"\"\"\n",
    "    Connect to the Postgres service using credentials from environment variables or defaults.\n",
    "    \"\"\"\n",
    "    host = \"localhost\"\n",
    "    port = \"5434\"\n",
    "    user = \"airflow\"\n",
    "    password = \"airflow\"\n",
    "    db = \"airflow\"\n",
    "    print(f\"Connecting to {host}:{port}...\")\n",
    "    return psycopg2.connect(\n",
    "        host=host,\n",
    "        port=port,\n",
    "        user=user,\n",
    "        password=password,\n",
    "        dbname=db   \n",
    "    )\n"
   ]
  },
  {
   "cell_type": "markdown",
   "id": "79e88340",
   "metadata": {},
   "source": [
    "Connect, Get fraud data"
   ]
  },
  {
   "cell_type": "code",
   "execution_count": 20,
   "id": "54d86ff0",
   "metadata": {},
   "outputs": [
    {
     "name": "stdout",
     "output_type": "stream",
     "text": [
      "Connecting to localhost:5434...\n"
     ]
    },
    {
     "name": "stderr",
     "output_type": "stream",
     "text": [
      "/var/folders/hl/t2jfhjz11s3g1ttdr0j284200000gn/T/ipykernel_34233/4084873497.py:2: UserWarning: pandas only supports SQLAlchemy connectable (engine/connection) or database string URI or sqlite3 DBAPI2 connection. Other DBAPI2 objects are not tested. Please consider using SQLAlchemy.\n",
      "  df = pd.read_sql_query(\"SELECT * FROM fraud_alerts;\", conn)\n"
     ]
    },
    {
     "data": {
      "application/vnd.microsoft.datawrangler.viewer.v0+json": {
       "columns": [
        {
         "name": "index",
         "rawType": "int64",
         "type": "integer"
        },
        {
         "name": "id",
         "rawType": "int64",
         "type": "integer"
        },
        {
         "name": "transaction_id",
         "rawType": "object",
         "type": "string"
        },
        {
         "name": "customer_id",
         "rawType": "object",
         "type": "string"
        },
        {
         "name": "transaction_timestamp",
         "rawType": "datetime64[ns]",
         "type": "datetime"
        },
        {
         "name": "risk_score",
         "rawType": "int64",
         "type": "integer"
        },
        {
         "name": "flags",
         "rawType": "object",
         "type": "string"
        },
        {
         "name": "inserted_at",
         "rawType": "datetime64[ns]",
         "type": "datetime"
        }
       ],
       "ref": "47079453-3cdb-43db-aa85-6838ef0ab25c",
       "rows": [
        [
         "0",
         "1",
         "2419",
         "1499",
         "2022-08-03 09:17:27.714768",
         "6",
         "GEO_MISMATCH,PAST_FRAUD,WEEKEND_LOGIN,NIGHT_LOGIN",
         "2025-06-16 19:15:59.174734"
        ],
        [
         "1",
         "2",
         "4078",
         "1830",
         "2022-09-12 16:00:27.045707",
         "5",
         "GEO_MISMATCH,PAST_FRAUD,NIGHT_LOGIN",
         "2025-06-16 19:15:59.176181"
        ],
        [
         "2",
         "3",
         "1364",
         "1288",
         "2022-07-08 22:24:04.648546",
         "5",
         "GEO_MISMATCH,PAST_FRAUD,NIGHT_LOGIN",
         "2025-06-16 19:15:59.176402"
        ],
        [
         "3",
         "4",
         "4831",
         "1987",
         "2022-02-19 12:14:11.087538",
         "6",
         "FAILED_LOGIN,GEO_MISMATCH,HIGH_RISK_MERCHANT,WEEKEND_LOGIN",
         "2025-06-16 19:15:59.176553"
        ],
        [
         "4",
         "5",
         "4720",
         "1967",
         "2022-07-16 14:05:12.853759",
         "6",
         "HIGH_RISK_MERCHANT,PAST_FRAUD,WEEKEND_LOGIN,NIGHT_LOGIN",
         "2025-06-16 19:15:59.176682"
        ]
       ],
       "shape": {
        "columns": 7,
        "rows": 5
       }
      },
      "text/html": [
       "<div>\n",
       "<style scoped>\n",
       "    .dataframe tbody tr th:only-of-type {\n",
       "        vertical-align: middle;\n",
       "    }\n",
       "\n",
       "    .dataframe tbody tr th {\n",
       "        vertical-align: top;\n",
       "    }\n",
       "\n",
       "    .dataframe thead th {\n",
       "        text-align: right;\n",
       "    }\n",
       "</style>\n",
       "<table border=\"1\" class=\"dataframe\">\n",
       "  <thead>\n",
       "    <tr style=\"text-align: right;\">\n",
       "      <th></th>\n",
       "      <th>id</th>\n",
       "      <th>transaction_id</th>\n",
       "      <th>customer_id</th>\n",
       "      <th>transaction_timestamp</th>\n",
       "      <th>risk_score</th>\n",
       "      <th>flags</th>\n",
       "      <th>inserted_at</th>\n",
       "    </tr>\n",
       "  </thead>\n",
       "  <tbody>\n",
       "    <tr>\n",
       "      <th>0</th>\n",
       "      <td>1</td>\n",
       "      <td>2419</td>\n",
       "      <td>1499</td>\n",
       "      <td>2022-08-03 09:17:27.714768</td>\n",
       "      <td>6</td>\n",
       "      <td>GEO_MISMATCH,PAST_FRAUD,WEEKEND_LOGIN,NIGHT_LOGIN</td>\n",
       "      <td>2025-06-16 19:15:59.174734</td>\n",
       "    </tr>\n",
       "    <tr>\n",
       "      <th>1</th>\n",
       "      <td>2</td>\n",
       "      <td>4078</td>\n",
       "      <td>1830</td>\n",
       "      <td>2022-09-12 16:00:27.045707</td>\n",
       "      <td>5</td>\n",
       "      <td>GEO_MISMATCH,PAST_FRAUD,NIGHT_LOGIN</td>\n",
       "      <td>2025-06-16 19:15:59.176181</td>\n",
       "    </tr>\n",
       "    <tr>\n",
       "      <th>2</th>\n",
       "      <td>3</td>\n",
       "      <td>1364</td>\n",
       "      <td>1288</td>\n",
       "      <td>2022-07-08 22:24:04.648546</td>\n",
       "      <td>5</td>\n",
       "      <td>GEO_MISMATCH,PAST_FRAUD,NIGHT_LOGIN</td>\n",
       "      <td>2025-06-16 19:15:59.176402</td>\n",
       "    </tr>\n",
       "    <tr>\n",
       "      <th>3</th>\n",
       "      <td>4</td>\n",
       "      <td>4831</td>\n",
       "      <td>1987</td>\n",
       "      <td>2022-02-19 12:14:11.087538</td>\n",
       "      <td>6</td>\n",
       "      <td>FAILED_LOGIN,GEO_MISMATCH,HIGH_RISK_MERCHANT,W...</td>\n",
       "      <td>2025-06-16 19:15:59.176553</td>\n",
       "    </tr>\n",
       "    <tr>\n",
       "      <th>4</th>\n",
       "      <td>5</td>\n",
       "      <td>4720</td>\n",
       "      <td>1967</td>\n",
       "      <td>2022-07-16 14:05:12.853759</td>\n",
       "      <td>6</td>\n",
       "      <td>HIGH_RISK_MERCHANT,PAST_FRAUD,WEEKEND_LOGIN,NI...</td>\n",
       "      <td>2025-06-16 19:15:59.176682</td>\n",
       "    </tr>\n",
       "  </tbody>\n",
       "</table>\n",
       "</div>"
      ],
      "text/plain": [
       "   id transaction_id customer_id      transaction_timestamp  risk_score  \\\n",
       "0   1           2419        1499 2022-08-03 09:17:27.714768           6   \n",
       "1   2           4078        1830 2022-09-12 16:00:27.045707           5   \n",
       "2   3           1364        1288 2022-07-08 22:24:04.648546           5   \n",
       "3   4           4831        1987 2022-02-19 12:14:11.087538           6   \n",
       "4   5           4720        1967 2022-07-16 14:05:12.853759           6   \n",
       "\n",
       "                                               flags  \\\n",
       "0  GEO_MISMATCH,PAST_FRAUD,WEEKEND_LOGIN,NIGHT_LOGIN   \n",
       "1                GEO_MISMATCH,PAST_FRAUD,NIGHT_LOGIN   \n",
       "2                GEO_MISMATCH,PAST_FRAUD,NIGHT_LOGIN   \n",
       "3  FAILED_LOGIN,GEO_MISMATCH,HIGH_RISK_MERCHANT,W...   \n",
       "4  HIGH_RISK_MERCHANT,PAST_FRAUD,WEEKEND_LOGIN,NI...   \n",
       "\n",
       "                 inserted_at  \n",
       "0 2025-06-16 19:15:59.174734  \n",
       "1 2025-06-16 19:15:59.176181  \n",
       "2 2025-06-16 19:15:59.176402  \n",
       "3 2025-06-16 19:15:59.176553  \n",
       "4 2025-06-16 19:15:59.176682  "
      ]
     },
     "execution_count": 20,
     "metadata": {},
     "output_type": "execute_result"
    }
   ],
   "source": [
    "conn = get_postgres_conn()\n",
    "df = pd.read_sql_query(\"SELECT * FROM fraud_alerts;\", conn)\n",
    "conn.close()\n",
    "df.head()"
   ]
  },
  {
   "cell_type": "markdown",
   "id": "fa6683f4",
   "metadata": {},
   "source": [
    "Process df"
   ]
  },
  {
   "cell_type": "code",
   "execution_count": null,
   "id": "b538dba9",
   "metadata": {},
   "outputs": [
    {
     "data": {
      "application/vnd.microsoft.datawrangler.viewer.v0+json": {
       "columns": [
        {
         "name": "index",
         "rawType": "int64",
         "type": "integer"
        },
        {
         "name": "id",
         "rawType": "int64",
         "type": "integer"
        },
        {
         "name": "transaction_id",
         "rawType": "object",
         "type": "string"
        },
        {
         "name": "customer_id",
         "rawType": "object",
         "type": "string"
        },
        {
         "name": "transaction_timestamp",
         "rawType": "datetime64[ns]",
         "type": "datetime"
        },
        {
         "name": "risk_score",
         "rawType": "int64",
         "type": "integer"
        },
        {
         "name": "flags",
         "rawType": "object",
         "type": "string"
        },
        {
         "name": "inserted_at",
         "rawType": "datetime64[ns]",
         "type": "datetime"
        },
        {
         "name": "flags_list",
         "rawType": "object",
         "type": "unknown"
        }
       ],
       "ref": "d8860301-eebe-4460-95c6-8e6db0dc9a06",
       "rows": [
        [
         "0",
         "1",
         "2419",
         "1499",
         "2022-08-03 09:17:27.714768",
         "6",
         "GEO_MISMATCH,PAST_FRAUD,WEEKEND_LOGIN,NIGHT_LOGIN",
         "2025-06-16 19:15:59.174734",
         "['GEO_MISMATCH', 'PAST_FRAUD', 'WEEKEND_LOGIN', 'NIGHT_LOGIN']"
        ],
        [
         "1",
         "2",
         "4078",
         "1830",
         "2022-09-12 16:00:27.045707",
         "5",
         "GEO_MISMATCH,PAST_FRAUD,NIGHT_LOGIN",
         "2025-06-16 19:15:59.176181",
         "['GEO_MISMATCH', 'PAST_FRAUD', 'NIGHT_LOGIN']"
        ],
        [
         "2",
         "3",
         "1364",
         "1288",
         "2022-07-08 22:24:04.648546",
         "5",
         "GEO_MISMATCH,PAST_FRAUD,NIGHT_LOGIN",
         "2025-06-16 19:15:59.176402",
         "['GEO_MISMATCH', 'PAST_FRAUD', 'NIGHT_LOGIN']"
        ],
        [
         "3",
         "4",
         "4831",
         "1987",
         "2022-02-19 12:14:11.087538",
         "6",
         "FAILED_LOGIN,GEO_MISMATCH,HIGH_RISK_MERCHANT,WEEKEND_LOGIN",
         "2025-06-16 19:15:59.176553",
         "['FAILED_LOGIN', 'GEO_MISMATCH', 'HIGH_RISK_MERCHANT', 'WEEKEND_LOGIN']"
        ],
        [
         "4",
         "5",
         "4720",
         "1967",
         "2022-07-16 14:05:12.853759",
         "6",
         "HIGH_RISK_MERCHANT,PAST_FRAUD,WEEKEND_LOGIN,NIGHT_LOGIN",
         "2025-06-16 19:15:59.176682",
         "['HIGH_RISK_MERCHANT', 'PAST_FRAUD', 'WEEKEND_LOGIN', 'NIGHT_LOGIN']"
        ]
       ],
       "shape": {
        "columns": 8,
        "rows": 5
       }
      },
      "text/html": [
       "<div>\n",
       "<style scoped>\n",
       "    .dataframe tbody tr th:only-of-type {\n",
       "        vertical-align: middle;\n",
       "    }\n",
       "\n",
       "    .dataframe tbody tr th {\n",
       "        vertical-align: top;\n",
       "    }\n",
       "\n",
       "    .dataframe thead th {\n",
       "        text-align: right;\n",
       "    }\n",
       "</style>\n",
       "<table border=\"1\" class=\"dataframe\">\n",
       "  <thead>\n",
       "    <tr style=\"text-align: right;\">\n",
       "      <th></th>\n",
       "      <th>id</th>\n",
       "      <th>transaction_id</th>\n",
       "      <th>customer_id</th>\n",
       "      <th>transaction_timestamp</th>\n",
       "      <th>risk_score</th>\n",
       "      <th>flags</th>\n",
       "      <th>inserted_at</th>\n",
       "      <th>flags_list</th>\n",
       "    </tr>\n",
       "  </thead>\n",
       "  <tbody>\n",
       "    <tr>\n",
       "      <th>0</th>\n",
       "      <td>1</td>\n",
       "      <td>2419</td>\n",
       "      <td>1499</td>\n",
       "      <td>2022-08-03 09:17:27.714768</td>\n",
       "      <td>6</td>\n",
       "      <td>GEO_MISMATCH,PAST_FRAUD,WEEKEND_LOGIN,NIGHT_LOGIN</td>\n",
       "      <td>2025-06-16 19:15:59.174734</td>\n",
       "      <td>[GEO_MISMATCH, PAST_FRAUD, WEEKEND_LOGIN, NIGH...</td>\n",
       "    </tr>\n",
       "    <tr>\n",
       "      <th>1</th>\n",
       "      <td>2</td>\n",
       "      <td>4078</td>\n",
       "      <td>1830</td>\n",
       "      <td>2022-09-12 16:00:27.045707</td>\n",
       "      <td>5</td>\n",
       "      <td>GEO_MISMATCH,PAST_FRAUD,NIGHT_LOGIN</td>\n",
       "      <td>2025-06-16 19:15:59.176181</td>\n",
       "      <td>[GEO_MISMATCH, PAST_FRAUD, NIGHT_LOGIN]</td>\n",
       "    </tr>\n",
       "    <tr>\n",
       "      <th>2</th>\n",
       "      <td>3</td>\n",
       "      <td>1364</td>\n",
       "      <td>1288</td>\n",
       "      <td>2022-07-08 22:24:04.648546</td>\n",
       "      <td>5</td>\n",
       "      <td>GEO_MISMATCH,PAST_FRAUD,NIGHT_LOGIN</td>\n",
       "      <td>2025-06-16 19:15:59.176402</td>\n",
       "      <td>[GEO_MISMATCH, PAST_FRAUD, NIGHT_LOGIN]</td>\n",
       "    </tr>\n",
       "    <tr>\n",
       "      <th>3</th>\n",
       "      <td>4</td>\n",
       "      <td>4831</td>\n",
       "      <td>1987</td>\n",
       "      <td>2022-02-19 12:14:11.087538</td>\n",
       "      <td>6</td>\n",
       "      <td>FAILED_LOGIN,GEO_MISMATCH,HIGH_RISK_MERCHANT,W...</td>\n",
       "      <td>2025-06-16 19:15:59.176553</td>\n",
       "      <td>[FAILED_LOGIN, GEO_MISMATCH, HIGH_RISK_MERCHAN...</td>\n",
       "    </tr>\n",
       "    <tr>\n",
       "      <th>4</th>\n",
       "      <td>5</td>\n",
       "      <td>4720</td>\n",
       "      <td>1967</td>\n",
       "      <td>2022-07-16 14:05:12.853759</td>\n",
       "      <td>6</td>\n",
       "      <td>HIGH_RISK_MERCHANT,PAST_FRAUD,WEEKEND_LOGIN,NI...</td>\n",
       "      <td>2025-06-16 19:15:59.176682</td>\n",
       "      <td>[HIGH_RISK_MERCHANT, PAST_FRAUD, WEEKEND_LOGIN...</td>\n",
       "    </tr>\n",
       "  </tbody>\n",
       "</table>\n",
       "</div>"
      ],
      "text/plain": [
       "   id transaction_id customer_id      transaction_timestamp  risk_score  \\\n",
       "0   1           2419        1499 2022-08-03 09:17:27.714768           6   \n",
       "1   2           4078        1830 2022-09-12 16:00:27.045707           5   \n",
       "2   3           1364        1288 2022-07-08 22:24:04.648546           5   \n",
       "3   4           4831        1987 2022-02-19 12:14:11.087538           6   \n",
       "4   5           4720        1967 2022-07-16 14:05:12.853759           6   \n",
       "\n",
       "                                               flags  \\\n",
       "0  GEO_MISMATCH,PAST_FRAUD,WEEKEND_LOGIN,NIGHT_LOGIN   \n",
       "1                GEO_MISMATCH,PAST_FRAUD,NIGHT_LOGIN   \n",
       "2                GEO_MISMATCH,PAST_FRAUD,NIGHT_LOGIN   \n",
       "3  FAILED_LOGIN,GEO_MISMATCH,HIGH_RISK_MERCHANT,W...   \n",
       "4  HIGH_RISK_MERCHANT,PAST_FRAUD,WEEKEND_LOGIN,NI...   \n",
       "\n",
       "                 inserted_at  \\\n",
       "0 2025-06-16 19:15:59.174734   \n",
       "1 2025-06-16 19:15:59.176181   \n",
       "2 2025-06-16 19:15:59.176402   \n",
       "3 2025-06-16 19:15:59.176553   \n",
       "4 2025-06-16 19:15:59.176682   \n",
       "\n",
       "                                          flags_list  \n",
       "0  [GEO_MISMATCH, PAST_FRAUD, WEEKEND_LOGIN, NIGH...  \n",
       "1            [GEO_MISMATCH, PAST_FRAUD, NIGHT_LOGIN]  \n",
       "2            [GEO_MISMATCH, PAST_FRAUD, NIGHT_LOGIN]  \n",
       "3  [FAILED_LOGIN, GEO_MISMATCH, HIGH_RISK_MERCHAN...  \n",
       "4  [HIGH_RISK_MERCHANT, PAST_FRAUD, WEEKEND_LOGIN...  "
      ]
     },
     "execution_count": 21,
     "metadata": {},
     "output_type": "execute_result"
    }
   ],
   "source": [
    "# Convert timestamp columns into actual datetime objects\n",
    "df['transaction_timestamp'] = pd.to_datetime(df['transaction_timestamp'])\n",
    "df['inserted_at'] = pd.to_datetime(df['inserted_at'])\n",
    "\n",
    "# Split the 'flags' column from a string into a list of flags (for later analysis)\n",
    "df['flags_list'] = df['flags'].str.split(',')\n",
    "\n",
    "\n",
    "df.head()"
   ]
  },
  {
   "cell_type": "markdown",
   "id": "d883ba55",
   "metadata": {},
   "source": [
    "top risky customers"
   ]
  },
  {
   "cell_type": "code",
   "execution_count": null,
   "id": "23f7c951",
   "metadata": {},
   "outputs": [],
   "source": [
    "top_customers = df.groupby('customer_id')['risk_score'].sum().sort_values(ascending=False).head(10)\n",
    "\n",
    "# Plot the top 10\n",
    "plt.figure(figsize=(10, 6))\n",
    "sns.barplot(x=top_customers.values, y=top_customers.index)\n",
    "plt.title(\"Top 10 Risky Customers (by Total Risk Score)\")\n",
    "plt.xlabel(\"Total Risk Score\")\n",
    "plt.ylabel(\"Customer ID\")\n",
    "plt.tight_layout()\n",
    "os.makedirs(\"visualizations\", exist_ok=True)\n",
    "plt.savefig(f\"visualizations/top_risky_customers.png\")\n",
    "plt.close()"
   ]
  },
  {
   "cell_type": "markdown",
   "id": "372bce38",
   "metadata": {},
   "source": [
    "Top flag fails"
   ]
  },
  {
   "cell_type": "code",
   "execution_count": 29,
   "id": "08ddaef8",
   "metadata": {},
   "outputs": [
    {
     "name": "stdout",
     "output_type": "stream",
     "text": [
      "Most Common Fraud Alert Flags: flags_list\n",
      "GEO_MISMATCH          48305\n",
      "NIGHT_LOGIN           41849\n",
      "HIGH_RISK_MERCHANT    38094\n",
      "WEEKEND_LOGIN         25919\n",
      "ODD_HOURS             24780\n",
      "PAST_FRAUD            13255\n",
      "FAILED_LOGIN           5227\n",
      "Name: count, dtype: int64\n"
     ]
    }
   ],
   "source": [
    "all_flags = df['flags_list'].explode()\n",
    "flag_counts = all_flags.value_counts()\n",
    "print(\"Most Common Fraud Alert Flags:\", flag_counts)\n",
    "plt.figure(figsize=(12, 6))\n",
    "sns.barplot(x=flag_counts.values, y=flag_counts.index)\n",
    "plt.title(\"Most Common Fraud Alert Flags\")\n",
    "plt.xlabel(\"Count\")\n",
    "plt.ylabel(\"Flag\")\n",
    "plt.tight_layout()\n",
    "os.makedirs(\"visualizations\", exist_ok=True)\n",
    "plt.savefig(f\"visualizations/alert_flag_frequencies.png\")\n",
    "plt.close()"
   ]
  },
  {
   "cell_type": "markdown",
   "id": "68575715",
   "metadata": {},
   "source": [
    "### Duckdb Partition\n"
   ]
  },
  {
   "cell_type": "code",
   "execution_count": null,
   "id": "ae594924",
   "metadata": {},
   "outputs": [],
   "source": [
    "cwd = Path.cwd()\n",
    "processed_dir = cwd / 'data' / 'processed'\n",
    "raw_dir = cwd / 'data' / 'raw'\n",
    "\n",
    "print(f'processed_dir: {processed_dir}')\n",
    "print(f'raw_dir: {raw_dir}')\n",
    "\n",
    "# Connect to duckdb in memory\n",
    "con = duckdb.connect(database=':memory:')\n",
    "\n",
    "# Dynamically get file types from raw directory\n",
    "file_types = []\n",
    "for file_path in raw_dir.glob('*.parquet'):\n",
    "    # Extract filename without extension\n",
    "    file_type = file_path.stem\n",
    "    file_types.append(file_type)\n",
    "\n",
    "print(f'Found files: {file_types}')\n",
    "\n",
    "partition_statement = \"\"\n",
    "\n",
    "for file_type in file_types:\n",
    "    con.execute(f\"\"\"\n",
    "    CREATE TABLE IF NOT EXISTS {file_type} AS\n",
    "    SELECT\n",
    "        *\n",
    "    FROM read_parquet('{raw_dir}/{file_type}.parquet')\n",
    "    \"\"\")\n",
    "    if file_type == 'customers':\n",
    "        partition_statement = \"PARTITION_BY (AccountCreationMonth)\"\n",
    "    if file_type == 'merchants':\n",
    "        partition_statement = \"PARTITION_BY (ingestion_date)\"\n",
    "    if file_type == 'transactions':\n",
    "        partition_statement = \"PARTITION_BY (TimestampMonth)\"\n",
    "    if file_type == 'login_attempts':\n",
    "        partition_statement = \"PARTITION_BY (LoginTimestampMonth)\"\n",
    "\n",
    "    statement = f\"\"\"\n",
    "        COPY {file_type} TO '{processed_dir}/{file_type}' \n",
    "        (FORMAT parquet, {partition_statement}, OVERWRITE_OR_IGNORE)\n",
    "    \"\"\"\n",
    "\n",
    "    # print(statement)\n",
    "    \n",
    "    # Write partitions\n",
    "    con.execute(f\"\"\"\n",
    "        COPY {file_type} TO '{processed_dir}/{file_type}' \n",
    "        (FORMAT parquet, {partition_statement}, OVERWRITE_OR_IGNORE)\n",
    "    \"\"\")"
   ]
  },
  {
   "cell_type": "markdown",
   "id": "b3ad2264",
   "metadata": {},
   "source": [
    "### TEST Minio Upload Paths"
   ]
  },
  {
   "cell_type": "code",
   "execution_count": null,
   "id": "bc52d7d1",
   "metadata": {},
   "outputs": [],
   "source": [
    "data_path = '/Users/tro/Desktop/fraud-pipeline-patrol/data/processed'\n",
    "\n",
    "# Check if the data directory exists\n",
    "if not os.path.exists(data_path):\n",
    "    print(f\"Data directory not found: {data_path}\")\n",
    "    raise FileNotFoundError(f\"Data directory not found: {data_path}\")\n",
    "\n",
    "data_path_obj = Path(data_path)\n",
    "subdirs = [d for d in data_path_obj.iterdir() if d.is_dir()]\n",
    "print(f\"Found {len(subdirs)} data subdirectories: {[d.name for d in subdirs]}\")\n",
    "\n",
    "# Process each table directory\n",
    "for subdir in subdirs:\n",
    "    table_name = subdir.name\n",
    "    print(f\"Processing {table_name} directory\")\n",
    "    \n",
    "    # Use recursive glob to find all parquet files in subdirectories\n",
    "    # This will find files in partition subdirectories like AccountCreationMonth=1/\n",
    "    parquet_files = list(subdir.glob('**/*.parquet'))\n",
    "    print(f\"Found {len(parquet_files)} parquet files in {table_name}\")\n",
    "\n",
    "    for file_path in parquet_files:\n",
    "        # relative_to(data_path) \n",
    "        rel_path = file_path.relative_to(data_path)\n",
    "        object_name = str(rel_path)\n",
    "        \n",
    "        print(f\"Uploading {file_path} to MinIO as {object_name}\")"
   ]
  }
 ],
 "metadata": {
  "kernelspec": {
   "display_name": "fraud-pipeline-patrol",
   "language": "python",
   "name": "python3"
  },
  "language_info": {
   "codemirror_mode": {
    "name": "ipython",
    "version": 3
   },
   "file_extension": ".py",
   "mimetype": "text/x-python",
   "name": "python",
   "nbconvert_exporter": "python",
   "pygments_lexer": "ipython3",
   "version": "3.13.0"
  }
 },
 "nbformat": 4,
 "nbformat_minor": 5
}
